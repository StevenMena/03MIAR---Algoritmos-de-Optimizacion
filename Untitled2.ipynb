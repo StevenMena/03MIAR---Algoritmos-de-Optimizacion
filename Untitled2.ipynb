{
  "nbformat": 4,
  "nbformat_minor": 0,
  "metadata": {
    "colab": {
      "provenance": [],
      "authorship_tag": "ABX9TyPJbh8d2FqfXNHzEV6Dulov",
      "include_colab_link": true
    },
    "kernelspec": {
      "name": "python3",
      "display_name": "Python 3"
    },
    "language_info": {
      "name": "python"
    }
  },
  "cells": [
    {
      "cell_type": "markdown",
      "metadata": {
        "id": "view-in-github",
        "colab_type": "text"
      },
      "source": [
        "<a href=\"https://colab.research.google.com/github/StevenMena/03MIAR---Algoritmos-de-Optimizacion/blob/main/Untitled2.ipynb\" target=\"_parent\"><img src=\"https://colab.research.google.com/assets/colab-badge.svg\" alt=\"Open In Colab\"/></a>"
      ]
    },
    {
      "cell_type": "code",
      "execution_count": null,
      "metadata": {
        "id": "gbTBR7DIEZeQ"
      },
      "outputs": [],
      "source": [
        "Este es un problema de optimización combinatoria conocido como el problema de asignación de tareas o el problema del agente-viajero. En este caso, tenemos un conjunto de actores de doblaje y un conjunto de tomas de la película. Queremos asignar cada toma a un día de grabación de manera que el número de actores necesarios en cada día sea el mínimo posible y que el número de días de grabación sea el mínimo posible.\n",
        "\n",
        "Podemos resolver este problema utilizando un algoritmo de programación lineal entera mixta (MILP, por sus siglas en inglés). Podemos representar el problema de la siguiente manera:\n",
        "\n",
        "Variables de decisión: definimos una variable binaria para cada posible asignación de toma a día de grabación. Si la variable es 1, entonces la toma se asigna al día correspondiente. Si es 0, no se asigna.\n",
        "\n",
        "Función objetivo: queremos minimizar el número de días de grabación multiplicado por el costo de cada actor de doblaje por día.\n",
        "\n",
        "Restricciones:\n",
        "\n",
        "Cada toma debe ser asignada a exactamente un día de grabación.\n",
        "Cada día de grabación debe tener un número de tomas asignadas que no supere 6.\n",
        "Si dos tomas tienen algún actor en común, deben ser asignadas al mismo día de grabación.\n",
        "Podemos implementar este modelo utilizando una biblioteca de programación lineal como PuLP en Python. Aquí está un posible código de ejemplo:\n",
        "\n",
        "python\n",
        "Copy code\n",
        "from pulp import *\n",
        "\n",
        "# Crear un problema de programación lineal entera mixta\n",
        "prob = LpProblem(\"Problema de doblaje\", LpMinimize)\n",
        "\n",
        "# Crear las variables de decisión\n",
        "# x[i,j] es 1 si la toma i se asigna al día j, 0 en otro caso\n",
        "x = LpVariable.dicts(\"asignacion\", [(i,j) for i in range(num_tomas) for j in range(num_dias)], cat='Binary')\n",
        "\n",
        "# Definir la función objetivo\n",
        "prob += lpSum([costo_diario * x[(i,j)] for i in range(num_tomas) for j in range(num_dias)]), \"Costo total\"\n",
        "\n",
        "# Definir las restricciones\n",
        "# Cada toma debe ser asignada a exactamente un día de grabación\n",
        "for i in range(num_tomas):\n",
        "    prob += lpSum([x[(i,j)] for j in range(num_dias)]) == 1, f\"Toma {i} asignada a un solo día\"\n",
        "\n",
        "# Cada día de grabación debe tener un número de tomas asignadas que no supere 6\n",
        "for j in range(num_dias):\n",
        "    prob += lpSum([x[(i,j)] for i in range(num_tomas)]) <= 6, f\"Día {j} con no más de 6 tomas\"\n",
        "\n",
        "# Si dos tomas tienen algún actor en común, deben ser asignadas al mismo día de grabación\n",
        "for j in range(num_dias):\n",
        "    for (i1,i2) in combinaciones_tomas:\n",
        "        if actores_comunes(i1, i2):\n",
        "            prob += x[(i1,j)] - x[(i2,j)] == 0, f\"Tomas {i1} y {i2} deben estar en el mismo día\"\n",
        "\n",
        "# Resolver el problema\n",
        "prob.solve()\n",
        "\n",
        "# Imprimir el resultado\n",
        "print(\"Status:\", LpStatus[prob.status])\n",
        "print(\"Costo total:\", value(prob.objective))\n",
        "for i in range"
      ]
    }
  ]
}