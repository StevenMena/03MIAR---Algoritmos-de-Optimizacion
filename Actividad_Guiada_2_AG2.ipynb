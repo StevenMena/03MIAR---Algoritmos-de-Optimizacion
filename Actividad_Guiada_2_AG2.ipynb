{
  "nbformat": 4,
  "nbformat_minor": 0,
  "metadata": {
    "colab": {
      "provenance": [],
      "authorship_tag": "ABX9TyN7Q2uK0wUx847XeYk/gcr+",
      "include_colab_link": true
    },
    "kernelspec": {
      "name": "python3",
      "display_name": "Python 3"
    },
    "language_info": {
      "name": "python"
    }
  },
  "cells": [
    {
      "cell_type": "markdown",
      "metadata": {
        "id": "view-in-github",
        "colab_type": "text"
      },
      "source": [
        "<a href=\"https://colab.research.google.com/github/StevenMena/03MIAR---Algoritmos-de-Optimizacion/blob/main/Actividad_Guiada_2_AG2.ipynb\" target=\"_parent\"><img src=\"https://colab.research.google.com/assets/colab-badge.svg\" alt=\"Open In Colab\"/></a>"
      ]
    },
    {
      "cell_type": "markdown",
      "source": [
        "AG2 - Actividad Guiada 2\n",
        "Nombre: Steven Mena\n",
        "\n",
        "Link: https://colab.research.google.com/drive/11-gD-bZpDe-0vP3GhkzlqoLbhF190zYN?usp=sharing\n",
        "\n",
        "Github: https://github.com/StevenMena/03MIAR---Algoritmos-de-Optimizacion"
      ],
      "metadata": {
        "id": "7CgvfBwKCLhb"
      }
    },
    {
      "cell_type": "code",
      "source": [
        "import math"
      ],
      "metadata": {
        "id": "1ADis1NRCOub"
      },
      "execution_count": 2,
      "outputs": []
    },
    {
      "cell_type": "code",
      "source": [
        "#Viaje por el rio - Programación dinámica\n",
        "################################################################################\n",
        "\n",
        "TARIFAS = [\n",
        "[0,5,4,3,float(\"inf\"),999,999],   #desde nodo 0\n",
        "[999,0,999,2,3,999,11],  #desde nodo 1\n",
        "[999,999, 0,1,999,4,10], #desde nodo 2\n",
        "[999,999,999, 0,5,6,9], #desde nodo 3\n",
        "[999,999, 999,999,0,999,4], #desde nodo 4\n",
        "[999,999, 999,999,999,0,3], #desde nodo 5\n",
        "[999,999,999,999,999,999,0] #desde nodo 6\n",
        "]\n",
        "\n",
        "#999 se puede sustituir por float(\"inf\") del modulo math\n",
        "print(float(\"inf\"))\n",
        "TARIFAS\n",
        "print(TARIFAS[0])\n",
        "\n",
        "print(list(range(6)))\n"
      ],
      "metadata": {
        "colab": {
          "base_uri": "https://localhost:8080/"
        },
        "id": "oEzaPqGIJqwt",
        "outputId": "d40e1eff-c24d-4b79-80a8-7adc369fa16e"
      },
      "execution_count": 1,
      "outputs": [
        {
          "output_type": "stream",
          "name": "stdout",
          "text": [
            "inf\n",
            "[0, 5, 4, 3, inf, 999, 999]\n",
            "[0, 1, 2, 3, 4, 5]\n"
          ]
        }
      ]
    },
    {
      "cell_type": "code",
      "source": [
        "#Calculo de la matriz de PRECIOS y RUTAS\n",
        "#  PRECIOS - contiene la matriz del mejor precio para ir de un nodo a otro\n",
        "#  RUTAS   - contiene los nodos intermedios para ir de un nodo a otro\n",
        "################################################################  \n",
        "def Precios(TARIFAS):\n",
        "################################################################ \n",
        "  #Cálculo del Total de Nodos \n",
        "  N = len(TARIFAS[0])\n",
        "  \n",
        "  #Inicialización de la tabla de precios\n",
        "  #Creando matriz para precios y una matriz para ruta, \n",
        "  #cada fila de las matriz representan a un nodo, y cada columna el movimiento de ese nodo hacia otro nodo\n",
        "  #por ejemplo fila 1 columna 5, significa del nodo 1 para llegar a 5\n",
        "  PRECIOS = [ [9999]*N for i in [9999]*N]  #n x n \n",
        "  #print(PRECIOS)\n",
        "  #en la parte del IN esta creando una lista por eso multiplica un escalar con un elemento de una lista\n",
        "  RUTA = [ [\"\"]*N for i in [\"\"]*N]\n",
        "  #print(RUTA)\n",
        "  \n",
        "  #Se recorren todos los nodos con dos bucles(origen - destino)\n",
        "  #Por ejemplo, de moverse de origen:0 a destino:1, entonces va a calcular cuanato cuesta moverse de 0 hasta N, si no hay comunicación de 0 a 4, entonces queda un valor elevado\n",
        "  #en este caso queda 9999\n",
        "  #Se recorre la matriz horizontalmente\n",
        "  #  para ir construyendo la matriz de PRECIOS\n",
        "  for i in range(N-1):\n",
        "    for j in range(i+1, N):\n",
        "      #Obtiendo las tarifas \n",
        "      MIN = TARIFAS[i][j]\n",
        "      #print(f\"MIN: {MIN}\")\n",
        "      RUTA[i][j] = i\n",
        "      \n",
        "      #Este for sirve para calcular las tarifas de los nodos intermedios los que no están comunicados directamente\n",
        "      #por ejemplo ir de 0 a 6, pero 0 y 6 no están conectados.\n",
        "      for k in range(i, j):\n",
        "        #print(f\"valor de i: {i}, valor de j: {j}, valor de k: {k}\")\n",
        "        #print(f\"PRECIOS {i},{k}: {PRECIOS[i][k]}\")\n",
        "        #print(f\"TARIFAS {k},{j}: {TARIFAS[k][j]}\")\n",
        "        if PRECIOS[i][k] + TARIFAS[k][j] < MIN:\n",
        "            MIN = min(MIN, PRECIOS[i][k] + TARIFAS[k][j] )\n",
        "            RUTA[i][j] = k\n",
        "        PRECIOS[i][j] = MIN\n",
        "        \n",
        "  return PRECIOS,RUTA"
      ],
      "metadata": {
        "id": "OX6BhxAoNxmv"
      },
      "execution_count": 7,
      "outputs": []
    },
    {
      "cell_type": "code",
      "source": [
        "PRECIOS,RUTA = Precios(TARIFAS)  \n",
        "\n",
        "print(\"PRECIOS\")\n",
        "for i in range(len(TARIFAS)):\n",
        "  print(PRECIOS[i])\n",
        "\n",
        "print(\"\\nRUTA\")  \n",
        "for i in range(len(TARIFAS)):\n",
        "  print(RUTA[i]) \n",
        "\n"
      ],
      "metadata": {
        "colab": {
          "base_uri": "https://localhost:8080/"
        },
        "id": "dbfWZ39Qbbs2",
        "outputId": "0b845e7d-fa9c-4528-a673-16622a425965"
      },
      "execution_count": 11,
      "outputs": [
        {
          "output_type": "stream",
          "name": "stdout",
          "text": [
            "PRECIOS\n",
            "[9999, 5, 4, 3, 8, 8, 11]\n",
            "[9999, 9999, 999, 2, 3, 8, 7]\n",
            "[9999, 9999, 9999, 1, 6, 4, 7]\n",
            "[9999, 9999, 9999, 9999, 5, 6, 9]\n",
            "[9999, 9999, 9999, 9999, 9999, 999, 4]\n",
            "[9999, 9999, 9999, 9999, 9999, 9999, 3]\n",
            "[9999, 9999, 9999, 9999, 9999, 9999, 9999]\n",
            "\n",
            "RUTA\n",
            "['', 0, 0, 0, 1, 2, 5]\n",
            "['', '', 1, 1, 1, 3, 4]\n",
            "['', '', '', 2, 3, 2, 5]\n",
            "['', '', '', '', 3, 3, 3]\n",
            "['', '', '', '', '', 4, 4]\n",
            "['', '', '', '', '', '', 5]\n",
            "['', '', '', '', '', '', '']\n"
          ]
        }
      ]
    },
    {
      "cell_type": "code",
      "source": [
        "#Calculo de la ruta usando la matriz RUTA\n",
        "def calcular_ruta(RUTA, desde, hasta):\n",
        "  print(f\"Valor de ruta desde,hasta: {desde},{hasta} == {RUTA[desde][hasta]}\")\n",
        "  if desde == RUTA[desde][hasta]:\n",
        "  #if desde == hasta:\n",
        "    #print(\"Ir a :\" + str(desde))\n",
        "    return desde \n",
        "  else:\n",
        "    return str(calcular_ruta(RUTA, desde, RUTA[desde][hasta])) +  ',' + str(RUTA[desde][hasta]) \n",
        "\n",
        "print(\"\\nLa ruta es:\")  \n",
        "calcular_ruta(RUTA,3,6) "
      ],
      "metadata": {
        "colab": {
          "base_uri": "https://localhost:8080/"
        },
        "id": "LfzRtiKmQAMK",
        "outputId": "6f63a56d-eb6b-4d9a-cdd1-9661c08c3c13"
      },
      "execution_count": 10,
      "outputs": [
        {
          "output_type": "stream",
          "name": "stdout",
          "text": [
            "\n",
            "La ruta es:\n",
            "Valor de ruta desde,hasta: 3,6 == 3\n"
          ]
        },
        {
          "output_type": "execute_result",
          "data": {
            "text/plain": [
              "3"
            ]
          },
          "metadata": {},
          "execution_count": 10
        }
      ]
    },
    {
      "cell_type": "markdown",
      "source": [
        "Problema de Asignacion de tarea"
      ],
      "metadata": {
        "id": "4PQ-HINi64-P"
      }
    },
    {
      "cell_type": "code",
      "source": [
        "#Asignacion de tareas - Ramificación y Poda\n",
        "################################################################################\n",
        "#    T A R E A \n",
        "#   A\n",
        "#   G\n",
        "#   E\n",
        "#   N\n",
        "#   T\n",
        "#   E\n",
        "\n",
        "COSTES=[[11,12,18,40],\n",
        "        [14,15,13,22],\n",
        "        [11,17,19,23],\n",
        "        [17,14,20,28]]"
      ],
      "metadata": {
        "id": "jfqOX2Dx65p8"
      },
      "execution_count": null,
      "outputs": []
    },
    {
      "cell_type": "code",
      "source": [
        "#Calculo del valor de una solucion parcial\n",
        "def valor(S,COSTES):\n",
        "  VALOR = 0\n",
        "  for i in range(len(S)):\n",
        "    VALOR += COSTES[S[i]][i] \n",
        "  return VALOR\n",
        "\n",
        "\n",
        "\n",
        "valor((3,2,  ),COSTES)"
      ],
      "metadata": {
        "id": "aWSowCMP6_kb"
      },
      "execution_count": null,
      "outputs": []
    },
    {
      "cell_type": "code",
      "source": [
        "#Coste inferior para soluciones parciales\n",
        "#  (1,3,) Se asigna la tarea 1 al agente 0 y la tarea 3 al agente 1\n",
        "\n",
        "def CI(S,COSTES):\n",
        "  VALOR = 0\n",
        "  #Valores establecidos\n",
        "  for i in range(len(S)):\n",
        "    VALOR += COSTES[i][S[i]]\n",
        "\n",
        "  #Estimacion\n",
        "  for i in range( len(S), len(COSTES)   ):\n",
        "    VALOR += min( [ COSTES[j][i] for j in range(len(S), len(COSTES))  ])\n",
        "  return VALOR\n",
        "\n",
        "def CS(S,COSTES):\n",
        "  VALOR = 0\n",
        "  #Valores establecidos\n",
        "  for i in range(len(S)):\n",
        "    VALOR += COSTES[i][S[i]]\n",
        "\n",
        "  #Estimacion\n",
        "  for i in range( len(S), len(COSTES)   ):\n",
        "    VALOR += max( [ COSTES[j][i] for j in range(len(S), len(COSTES))  ])\n",
        "  return VALOR\n",
        "\n",
        "CI((0,1),COSTES)"
      ],
      "metadata": {
        "id": "wxolI5HR7C2y"
      },
      "execution_count": null,
      "outputs": []
    },
    {
      "cell_type": "code",
      "source": [
        "#Genera tantos hijos como como posibilidades haya para la siguiente elemento de la tupla\n",
        "#(0,) -> (0,1), (0,2), (0,3)\n",
        "def crear_hijos(NODO, N):\n",
        "  HIJOS = []\n",
        "  for i in range(N ):\n",
        "    if i not in NODO:\n",
        "      HIJOS.append({'s':NODO +(i,)    })\n",
        "  return HIJOS"
      ],
      "metadata": {
        "id": "-y_B0f_b7Dmi"
      },
      "execution_count": null,
      "outputs": []
    }
  ]
}