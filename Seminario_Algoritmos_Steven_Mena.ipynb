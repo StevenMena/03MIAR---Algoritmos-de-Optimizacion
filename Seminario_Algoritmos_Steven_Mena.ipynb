{
  "nbformat": 4,
  "nbformat_minor": 0,
  "metadata": {
    "colab": {
      "provenance": [],
      "include_colab_link": true
    },
    "kernelspec": {
      "name": "python3",
      "display_name": "Python 3"
    }
  },
  "cells": [
    {
      "cell_type": "markdown",
      "metadata": {
        "id": "view-in-github",
        "colab_type": "text"
      },
      "source": [
        "<a href=\"https://colab.research.google.com/github/StevenMena/03MIAR---Algoritmos-de-Optimizacion/blob/main/Seminario_Algoritmos_Steven_Mena.ipynb\" target=\"_parent\"><img src=\"https://colab.research.google.com/assets/colab-badge.svg\" alt=\"Open In Colab\"/></a>"
      ]
    },
    {
      "cell_type": "markdown",
      "metadata": {
        "id": "hVbXYX-RfPWh"
      },
      "source": [
        "# Algoritmos de optimización - Seminario<br>\n",
        "Nombre y Apellidos: Steven Mena   <br>\n",
        "Url: https://github.com/.../03MAIR---Algoritmos-de-Optimizacion---2019/tree/master/SEMINARIO<br>\n",
        "Problema:\n",
        "> 1. Sesiones de doblaje <br>\n",
        "\n",
        "Descripción del problema:\n",
        "Se precisa coordinar el doblaje de una película. Los actores del doblaje deben coincidir en las\n",
        "tomas en las que sus personajes aparecen juntos en las diferentes tomas. Los actores de\n",
        "doblaje cobran todos la misma cantidad por cada día que deben desplazarse hasta el estudio de\n",
        "grabación independientemente del número de tomas que se graben. No es posible grabar más\n",
        "de 6 tomas por día. El objetivo es planificar las sesiones por día de manera que el gasto por los\n",
        "servicios de los actores de doblaje sea el menor posible.\n",
        "\n",
        "Número de actores: 10\n",
        "Número de tomas : 30\n",
        "Matriz de relación entre actores y tomas\n",
        "Actores/Tomas : https://bit.ly/36D8IuK\n",
        "\n",
        "- 1 indica que el actor participa en la toma\n",
        "- 0 en caso contrario\n",
        "....\n",
        "\n",
        "(*) La respuesta es obligatoria\n",
        "\n",
        "\n",
        "\n",
        "\n",
        "\n",
        "                                        "
      ]
    },
    {
      "cell_type": "markdown",
      "source": [
        "# Solución\n",
        "\n"
      ],
      "metadata": {
        "id": "iBDR_B9Ve1z-"
      }
    },
    {
      "cell_type": "code",
      "metadata": {
        "id": "AiskKkzZfy4e",
        "colab": {
          "base_uri": "https://localhost:8080/",
          "height": 740
        },
        "outputId": "afed53c6-3424-4135-874a-c0d0806849f9"
      },
      "source": [
        "import pandas as pd\n",
        "df = pd.read_csv('problema_doblaje.csv')\n",
        "#display(df)\n",
        "\n",
        "df_transposed = df.transpose()\n",
        "df_transposed.reset_index(drop=True,inplace=True)\n",
        "#display(df_transposed)\n",
        "\n",
        "df_cleaned=df_transposed.iloc[1:11,1:-2]\n",
        "\n",
        "#Data frame de actores (filas) y tomas (columnas)\n",
        "display(df_cleaned)\n",
        "print(df_cleaned.to_numpy())"
      ],
      "execution_count": null,
      "outputs": [
        {
          "output_type": "display_data",
          "data": {
            "text/plain": [
              "     1    2    3    4    5    6    7    8    9    10  ...   21   22   23   24  \\\n",
              "1   1.0  0.0  0.0  1.0  0.0  1.0  1.0  1.0  1.0  1.0  ...  0.0  1.0  1.0  0.0   \n",
              "2   1.0  0.0  1.0  1.0  1.0  1.0  1.0  1.0  1.0  1.0  ...  0.0  1.0  0.0  0.0   \n",
              "3   1.0  1.0  0.0  0.0  0.0  0.0  0.0  0.0  0.0  0.0  ...  0.0  1.0  1.0  1.0   \n",
              "4   1.0  1.0  0.0  0.0  1.0  1.0  1.0  0.0  1.0  0.0  ...  0.0  1.0  0.0  0.0   \n",
              "5   1.0  1.0  1.0  0.0  0.0  1.0  1.0  0.0  0.0  0.0  ...  0.0  0.0  0.0  0.0   \n",
              "6   0.0  0.0  0.0  0.0  0.0  0.0  0.0  1.0  0.0  1.0  ...  1.0  0.0  0.0  1.0   \n",
              "7   0.0  0.0  1.0  1.0  0.0  0.0  0.0  0.0  0.0  0.0  ...  0.0  0.0  0.0  0.0   \n",
              "8   0.0  0.0  0.0  1.0  1.0  0.0  0.0  0.0  0.0  0.0  ...  1.0  0.0  0.0  0.0   \n",
              "9   0.0  0.0  0.0  0.0  0.0  0.0  0.0  0.0  0.0  1.0  ...  0.0  0.0  0.0  0.0   \n",
              "10  0.0  0.0  0.0  0.0  0.0  0.0  0.0  0.0  0.0  0.0  ...  0.0  0.0  0.0  0.0   \n",
              "\n",
              "     25   26   27   28   29   30  \n",
              "1   1.0  1.0  0.0  1.0  1.0  1.0  \n",
              "2   1.0  0.0  0.0  0.0  0.0  0.0  \n",
              "3   0.0  1.0  0.0  0.0  0.0  0.0  \n",
              "4   1.0  0.0  1.0  1.0  0.0  1.0  \n",
              "5   0.0  1.0  1.0  0.0  1.0  0.0  \n",
              "6   0.0  0.0  0.0  0.0  1.0  0.0  \n",
              "7   0.0  0.0  0.0  0.0  0.0  0.0  \n",
              "8   0.0  0.0  0.0  0.0  0.0  0.0  \n",
              "9   0.0  1.0  0.0  0.0  0.0  0.0  \n",
              "10  1.0  0.0  0.0  0.0  0.0  0.0  \n",
              "\n",
              "[10 rows x 30 columns]"
            ],
            "text/html": [
              "\n",
              "  <div id=\"df-5eb43ca0-ebfb-4c13-9d4d-3017783c798c\">\n",
              "    <div class=\"colab-df-container\">\n",
              "      <div>\n",
              "<style scoped>\n",
              "    .dataframe tbody tr th:only-of-type {\n",
              "        vertical-align: middle;\n",
              "    }\n",
              "\n",
              "    .dataframe tbody tr th {\n",
              "        vertical-align: top;\n",
              "    }\n",
              "\n",
              "    .dataframe thead th {\n",
              "        text-align: right;\n",
              "    }\n",
              "</style>\n",
              "<table border=\"1\" class=\"dataframe\">\n",
              "  <thead>\n",
              "    <tr style=\"text-align: right;\">\n",
              "      <th></th>\n",
              "      <th>1</th>\n",
              "      <th>2</th>\n",
              "      <th>3</th>\n",
              "      <th>4</th>\n",
              "      <th>5</th>\n",
              "      <th>6</th>\n",
              "      <th>7</th>\n",
              "      <th>8</th>\n",
              "      <th>9</th>\n",
              "      <th>10</th>\n",
              "      <th>...</th>\n",
              "      <th>21</th>\n",
              "      <th>22</th>\n",
              "      <th>23</th>\n",
              "      <th>24</th>\n",
              "      <th>25</th>\n",
              "      <th>26</th>\n",
              "      <th>27</th>\n",
              "      <th>28</th>\n",
              "      <th>29</th>\n",
              "      <th>30</th>\n",
              "    </tr>\n",
              "  </thead>\n",
              "  <tbody>\n",
              "    <tr>\n",
              "      <th>1</th>\n",
              "      <td>1.0</td>\n",
              "      <td>0.0</td>\n",
              "      <td>0.0</td>\n",
              "      <td>1.0</td>\n",
              "      <td>0.0</td>\n",
              "      <td>1.0</td>\n",
              "      <td>1.0</td>\n",
              "      <td>1.0</td>\n",
              "      <td>1.0</td>\n",
              "      <td>1.0</td>\n",
              "      <td>...</td>\n",
              "      <td>0.0</td>\n",
              "      <td>1.0</td>\n",
              "      <td>1.0</td>\n",
              "      <td>0.0</td>\n",
              "      <td>1.0</td>\n",
              "      <td>1.0</td>\n",
              "      <td>0.0</td>\n",
              "      <td>1.0</td>\n",
              "      <td>1.0</td>\n",
              "      <td>1.0</td>\n",
              "    </tr>\n",
              "    <tr>\n",
              "      <th>2</th>\n",
              "      <td>1.0</td>\n",
              "      <td>0.0</td>\n",
              "      <td>1.0</td>\n",
              "      <td>1.0</td>\n",
              "      <td>1.0</td>\n",
              "      <td>1.0</td>\n",
              "      <td>1.0</td>\n",
              "      <td>1.0</td>\n",
              "      <td>1.0</td>\n",
              "      <td>1.0</td>\n",
              "      <td>...</td>\n",
              "      <td>0.0</td>\n",
              "      <td>1.0</td>\n",
              "      <td>0.0</td>\n",
              "      <td>0.0</td>\n",
              "      <td>1.0</td>\n",
              "      <td>0.0</td>\n",
              "      <td>0.0</td>\n",
              "      <td>0.0</td>\n",
              "      <td>0.0</td>\n",
              "      <td>0.0</td>\n",
              "    </tr>\n",
              "    <tr>\n",
              "      <th>3</th>\n",
              "      <td>1.0</td>\n",
              "      <td>1.0</td>\n",
              "      <td>0.0</td>\n",
              "      <td>0.0</td>\n",
              "      <td>0.0</td>\n",
              "      <td>0.0</td>\n",
              "      <td>0.0</td>\n",
              "      <td>0.0</td>\n",
              "      <td>0.0</td>\n",
              "      <td>0.0</td>\n",
              "      <td>...</td>\n",
              "      <td>0.0</td>\n",
              "      <td>1.0</td>\n",
              "      <td>1.0</td>\n",
              "      <td>1.0</td>\n",
              "      <td>0.0</td>\n",
              "      <td>1.0</td>\n",
              "      <td>0.0</td>\n",
              "      <td>0.0</td>\n",
              "      <td>0.0</td>\n",
              "      <td>0.0</td>\n",
              "    </tr>\n",
              "    <tr>\n",
              "      <th>4</th>\n",
              "      <td>1.0</td>\n",
              "      <td>1.0</td>\n",
              "      <td>0.0</td>\n",
              "      <td>0.0</td>\n",
              "      <td>1.0</td>\n",
              "      <td>1.0</td>\n",
              "      <td>1.0</td>\n",
              "      <td>0.0</td>\n",
              "      <td>1.0</td>\n",
              "      <td>0.0</td>\n",
              "      <td>...</td>\n",
              "      <td>0.0</td>\n",
              "      <td>1.0</td>\n",
              "      <td>0.0</td>\n",
              "      <td>0.0</td>\n",
              "      <td>1.0</td>\n",
              "      <td>0.0</td>\n",
              "      <td>1.0</td>\n",
              "      <td>1.0</td>\n",
              "      <td>0.0</td>\n",
              "      <td>1.0</td>\n",
              "    </tr>\n",
              "    <tr>\n",
              "      <th>5</th>\n",
              "      <td>1.0</td>\n",
              "      <td>1.0</td>\n",
              "      <td>1.0</td>\n",
              "      <td>0.0</td>\n",
              "      <td>0.0</td>\n",
              "      <td>1.0</td>\n",
              "      <td>1.0</td>\n",
              "      <td>0.0</td>\n",
              "      <td>0.0</td>\n",
              "      <td>0.0</td>\n",
              "      <td>...</td>\n",
              "      <td>0.0</td>\n",
              "      <td>0.0</td>\n",
              "      <td>0.0</td>\n",
              "      <td>0.0</td>\n",
              "      <td>0.0</td>\n",
              "      <td>1.0</td>\n",
              "      <td>1.0</td>\n",
              "      <td>0.0</td>\n",
              "      <td>1.0</td>\n",
              "      <td>0.0</td>\n",
              "    </tr>\n",
              "    <tr>\n",
              "      <th>6</th>\n",
              "      <td>0.0</td>\n",
              "      <td>0.0</td>\n",
              "      <td>0.0</td>\n",
              "      <td>0.0</td>\n",
              "      <td>0.0</td>\n",
              "      <td>0.0</td>\n",
              "      <td>0.0</td>\n",
              "      <td>1.0</td>\n",
              "      <td>0.0</td>\n",
              "      <td>1.0</td>\n",
              "      <td>...</td>\n",
              "      <td>1.0</td>\n",
              "      <td>0.0</td>\n",
              "      <td>0.0</td>\n",
              "      <td>1.0</td>\n",
              "      <td>0.0</td>\n",
              "      <td>0.0</td>\n",
              "      <td>0.0</td>\n",
              "      <td>0.0</td>\n",
              "      <td>1.0</td>\n",
              "      <td>0.0</td>\n",
              "    </tr>\n",
              "    <tr>\n",
              "      <th>7</th>\n",
              "      <td>0.0</td>\n",
              "      <td>0.0</td>\n",
              "      <td>1.0</td>\n",
              "      <td>1.0</td>\n",
              "      <td>0.0</td>\n",
              "      <td>0.0</td>\n",
              "      <td>0.0</td>\n",
              "      <td>0.0</td>\n",
              "      <td>0.0</td>\n",
              "      <td>0.0</td>\n",
              "      <td>...</td>\n",
              "      <td>0.0</td>\n",
              "      <td>0.0</td>\n",
              "      <td>0.0</td>\n",
              "      <td>0.0</td>\n",
              "      <td>0.0</td>\n",
              "      <td>0.0</td>\n",
              "      <td>0.0</td>\n",
              "      <td>0.0</td>\n",
              "      <td>0.0</td>\n",
              "      <td>0.0</td>\n",
              "    </tr>\n",
              "    <tr>\n",
              "      <th>8</th>\n",
              "      <td>0.0</td>\n",
              "      <td>0.0</td>\n",
              "      <td>0.0</td>\n",
              "      <td>1.0</td>\n",
              "      <td>1.0</td>\n",
              "      <td>0.0</td>\n",
              "      <td>0.0</td>\n",
              "      <td>0.0</td>\n",
              "      <td>0.0</td>\n",
              "      <td>0.0</td>\n",
              "      <td>...</td>\n",
              "      <td>1.0</td>\n",
              "      <td>0.0</td>\n",
              "      <td>0.0</td>\n",
              "      <td>0.0</td>\n",
              "      <td>0.0</td>\n",
              "      <td>0.0</td>\n",
              "      <td>0.0</td>\n",
              "      <td>0.0</td>\n",
              "      <td>0.0</td>\n",
              "      <td>0.0</td>\n",
              "    </tr>\n",
              "    <tr>\n",
              "      <th>9</th>\n",
              "      <td>0.0</td>\n",
              "      <td>0.0</td>\n",
              "      <td>0.0</td>\n",
              "      <td>0.0</td>\n",
              "      <td>0.0</td>\n",
              "      <td>0.0</td>\n",
              "      <td>0.0</td>\n",
              "      <td>0.0</td>\n",
              "      <td>0.0</td>\n",
              "      <td>1.0</td>\n",
              "      <td>...</td>\n",
              "      <td>0.0</td>\n",
              "      <td>0.0</td>\n",
              "      <td>0.0</td>\n",
              "      <td>0.0</td>\n",
              "      <td>0.0</td>\n",
              "      <td>1.0</td>\n",
              "      <td>0.0</td>\n",
              "      <td>0.0</td>\n",
              "      <td>0.0</td>\n",
              "      <td>0.0</td>\n",
              "    </tr>\n",
              "    <tr>\n",
              "      <th>10</th>\n",
              "      <td>0.0</td>\n",
              "      <td>0.0</td>\n",
              "      <td>0.0</td>\n",
              "      <td>0.0</td>\n",
              "      <td>0.0</td>\n",
              "      <td>0.0</td>\n",
              "      <td>0.0</td>\n",
              "      <td>0.0</td>\n",
              "      <td>0.0</td>\n",
              "      <td>0.0</td>\n",
              "      <td>...</td>\n",
              "      <td>0.0</td>\n",
              "      <td>0.0</td>\n",
              "      <td>0.0</td>\n",
              "      <td>0.0</td>\n",
              "      <td>1.0</td>\n",
              "      <td>0.0</td>\n",
              "      <td>0.0</td>\n",
              "      <td>0.0</td>\n",
              "      <td>0.0</td>\n",
              "      <td>0.0</td>\n",
              "    </tr>\n",
              "  </tbody>\n",
              "</table>\n",
              "<p>10 rows × 30 columns</p>\n",
              "</div>\n",
              "      <button class=\"colab-df-convert\" onclick=\"convertToInteractive('df-5eb43ca0-ebfb-4c13-9d4d-3017783c798c')\"\n",
              "              title=\"Convert this dataframe to an interactive table.\"\n",
              "              style=\"display:none;\">\n",
              "        \n",
              "  <svg xmlns=\"http://www.w3.org/2000/svg\" height=\"24px\"viewBox=\"0 0 24 24\"\n",
              "       width=\"24px\">\n",
              "    <path d=\"M0 0h24v24H0V0z\" fill=\"none\"/>\n",
              "    <path d=\"M18.56 5.44l.94 2.06.94-2.06 2.06-.94-2.06-.94-.94-2.06-.94 2.06-2.06.94zm-11 1L8.5 8.5l.94-2.06 2.06-.94-2.06-.94L8.5 2.5l-.94 2.06-2.06.94zm10 10l.94 2.06.94-2.06 2.06-.94-2.06-.94-.94-2.06-.94 2.06-2.06.94z\"/><path d=\"M17.41 7.96l-1.37-1.37c-.4-.4-.92-.59-1.43-.59-.52 0-1.04.2-1.43.59L10.3 9.45l-7.72 7.72c-.78.78-.78 2.05 0 2.83L4 21.41c.39.39.9.59 1.41.59.51 0 1.02-.2 1.41-.59l7.78-7.78 2.81-2.81c.8-.78.8-2.07 0-2.86zM5.41 20L4 18.59l7.72-7.72 1.47 1.35L5.41 20z\"/>\n",
              "  </svg>\n",
              "      </button>\n",
              "      \n",
              "  <style>\n",
              "    .colab-df-container {\n",
              "      display:flex;\n",
              "      flex-wrap:wrap;\n",
              "      gap: 12px;\n",
              "    }\n",
              "\n",
              "    .colab-df-convert {\n",
              "      background-color: #E8F0FE;\n",
              "      border: none;\n",
              "      border-radius: 50%;\n",
              "      cursor: pointer;\n",
              "      display: none;\n",
              "      fill: #1967D2;\n",
              "      height: 32px;\n",
              "      padding: 0 0 0 0;\n",
              "      width: 32px;\n",
              "    }\n",
              "\n",
              "    .colab-df-convert:hover {\n",
              "      background-color: #E2EBFA;\n",
              "      box-shadow: 0px 1px 2px rgba(60, 64, 67, 0.3), 0px 1px 3px 1px rgba(60, 64, 67, 0.15);\n",
              "      fill: #174EA6;\n",
              "    }\n",
              "\n",
              "    [theme=dark] .colab-df-convert {\n",
              "      background-color: #3B4455;\n",
              "      fill: #D2E3FC;\n",
              "    }\n",
              "\n",
              "    [theme=dark] .colab-df-convert:hover {\n",
              "      background-color: #434B5C;\n",
              "      box-shadow: 0px 1px 3px 1px rgba(0, 0, 0, 0.15);\n",
              "      filter: drop-shadow(0px 1px 2px rgba(0, 0, 0, 0.3));\n",
              "      fill: #FFFFFF;\n",
              "    }\n",
              "  </style>\n",
              "\n",
              "      <script>\n",
              "        const buttonEl =\n",
              "          document.querySelector('#df-5eb43ca0-ebfb-4c13-9d4d-3017783c798c button.colab-df-convert');\n",
              "        buttonEl.style.display =\n",
              "          google.colab.kernel.accessAllowed ? 'block' : 'none';\n",
              "\n",
              "        async function convertToInteractive(key) {\n",
              "          const element = document.querySelector('#df-5eb43ca0-ebfb-4c13-9d4d-3017783c798c');\n",
              "          const dataTable =\n",
              "            await google.colab.kernel.invokeFunction('convertToInteractive',\n",
              "                                                     [key], {});\n",
              "          if (!dataTable) return;\n",
              "\n",
              "          const docLinkHtml = 'Like what you see? Visit the ' +\n",
              "            '<a target=\"_blank\" href=https://colab.research.google.com/notebooks/data_table.ipynb>data table notebook</a>'\n",
              "            + ' to learn more about interactive tables.';\n",
              "          element.innerHTML = '';\n",
              "          dataTable['output_type'] = 'display_data';\n",
              "          await google.colab.output.renderOutput(dataTable, element);\n",
              "          const docLink = document.createElement('div');\n",
              "          docLink.innerHTML = docLinkHtml;\n",
              "          element.appendChild(docLink);\n",
              "        }\n",
              "      </script>\n",
              "    </div>\n",
              "  </div>\n",
              "  "
            ]
          },
          "metadata": {}
        },
        {
          "output_type": "stream",
          "name": "stdout",
          "text": [
            "[[1.0 0.0 0.0 1.0 0.0 1.0 1.0 1.0 1.0 1.0 1.0 1.0 1.0 1.0 1.0 0.0 1.0 0.0\n",
            "  1.0 1.0 0.0 1.0 1.0 0.0 1.0 1.0 0.0 1.0 1.0 1.0]\n",
            " [1.0 0.0 1.0 1.0 1.0 1.0 1.0 1.0 1.0 1.0 1.0 1.0 0.0 0.0 1.0 0.0 0.0 0.0\n",
            "  0.0 0.0 0.0 1.0 0.0 0.0 1.0 0.0 0.0 0.0 0.0 0.0]\n",
            " [1.0 1.0 0.0 0.0 0.0 0.0 0.0 0.0 0.0 0.0 1.0 1.0 0.0 1.0 0.0 0.0 1.0 1.0\n",
            "  1.0 1.0 0.0 1.0 1.0 1.0 0.0 1.0 0.0 0.0 0.0 0.0]\n",
            " [1.0 1.0 0.0 0.0 1.0 1.0 1.0 0.0 1.0 0.0 0.0 1.0 1.0 0.0 0.0 1.0 0.0 0.0\n",
            "  0.0 1.0 0.0 1.0 0.0 0.0 1.0 0.0 1.0 1.0 0.0 1.0]\n",
            " [1.0 1.0 1.0 0.0 0.0 1.0 1.0 0.0 0.0 0.0 1.0 0.0 1.0 0.0 0.0 0.0 0.0 0.0\n",
            "  0.0 1.0 0.0 0.0 0.0 0.0 0.0 1.0 1.0 0.0 1.0 0.0]\n",
            " [0.0 0.0 0.0 0.0 0.0 0.0 0.0 1.0 0.0 1.0 0.0 1.0 0.0 1.0 0.0 0.0 0.0 1.0\n",
            "  0.0 0.0 1.0 0.0 0.0 1.0 0.0 0.0 0.0 0.0 1.0 0.0]\n",
            " [0.0 0.0 1.0 1.0 0.0 0.0 0.0 0.0 0.0 0.0 0.0 0.0 0.0 0.0 1.0 0.0 0.0 0.0\n",
            "  0.0 0.0 0.0 0.0 0.0 0.0 0.0 0.0 0.0 0.0 0.0 0.0]\n",
            " [0.0 0.0 0.0 1.0 1.0 0.0 0.0 0.0 0.0 0.0 1.0 0.0 0.0 0.0 0.0 0.0 0.0 0.0\n",
            "  0.0 0.0 1.0 0.0 0.0 0.0 0.0 0.0 0.0 0.0 0.0 0.0]\n",
            " [0.0 0.0 0.0 0.0 0.0 0.0 0.0 0.0 0.0 1.0 0.0 0.0 0.0 0.0 0.0 0.0 0.0 0.0\n",
            "  0.0 0.0 0.0 0.0 0.0 0.0 0.0 1.0 0.0 0.0 0.0 0.0]\n",
            " [0.0 0.0 0.0 0.0 0.0 0.0 0.0 0.0 0.0 0.0 0.0 0.0 0.0 0.0 0.0 1.0 0.0 0.0\n",
            "  0.0 0.0 0.0 0.0 0.0 0.0 1.0 0.0 0.0 0.0 0.0 0.0]]\n"
          ]
        }
      ]
    },
    {
      "cell_type": "code",
      "source": [],
      "metadata": {
        "id": "VfxJfFchpkEQ"
      },
      "execution_count": null,
      "outputs": []
    },
    {
      "cell_type": "markdown",
      "metadata": {
        "id": "3_-exlrTgLd-"
      },
      "source": [
        "(*)¿Cuantas posibilidades hay sin tener en cuenta las restricciones?<br>\n",
        "\n",
        "\n",
        "\n",
        "¿Cuantas posibilidades hay teniendo en cuenta todas las restricciones.\n",
        "\n",
        "\n"
      ]
    },
    {
      "cell_type": "markdown",
      "metadata": {
        "id": "WfCUqJyKhPcw"
      },
      "source": [
        "Respuesta"
      ]
    },
    {
      "cell_type": "code",
      "metadata": {
        "id": "iq6Fe32MgpDX"
      },
      "source": [
        "Si no tuviéramos en cuenta las restricciones de que cada actor debe aparecer en ciertas tomas y el límite máximo de tomas por día, \n",
        "entonces habría un total de 30^6 posibilidades de planificar las tomas por día. \n",
        "Esto se debe a que hay 30 tomas distintas y se pueden elegir 6 tomas por día. \n",
        "\n"
      ],
      "execution_count": null,
      "outputs": []
    },
    {
      "cell_type": "markdown",
      "metadata": {
        "id": "dzynfVJahHoY"
      },
      "source": [
        "Modelo para el espacio de soluciones<br>\n",
        "(*) ¿Cual es la estructura de datos que mejor se adapta al problema? Argumentalo.(Es posible que hayas elegido una al principio y veas la necesidad de cambiar, arguentalo)\n"
      ]
    },
    {
      "cell_type": "markdown",
      "metadata": {
        "id": "xFIJrOwKi2Ti"
      },
      "source": [
        "Respuesta"
      ]
    },
    {
      "cell_type": "code",
      "metadata": {
        "id": "38c-7-ejhJmA"
      },
      "source": [
        "En lugar de utilizar una matriz para representar las relaciones entre actores y tomas, se puede utilizar una lista de listas para representar las tomas en las que aparece cada actor.\n",
        "La lista de listas tendría A elementos, donde A es el número de actores. Cada elemento de la lista sería otra lista que contiene las tomas en las que aparece el actor correspondiente\n"
      ],
      "execution_count": null,
      "outputs": []
    },
    {
      "cell_type": "markdown",
      "metadata": {
        "id": "7Z9U2W7bi-XS"
      },
      "source": [
        "Según el modelo para el espacio de soluciones<br>\n",
        "(*)¿Cual es la función objetivo?\n",
        "\n",
        "(*)¿Es un problema de maximización o minimización? **bold text**"
      ]
    },
    {
      "cell_type": "markdown",
      "metadata": {
        "id": "hBalWLM7j1_d"
      },
      "source": [
        "Podemos expresar la función objetivo matemáticamente como:\n",
        "\n",
        "Sea T un conjunto de días de tomas, A un conjunto de actores y C el costo diario por actor.\n",
        "Cada día t en T tiene un conjunto de tomas Dt y cada toma d en Dt tiene un conjunto de actores Ad.\n",
        "\n",
        "La función objetivo F a minimizar es:\n",
        "\n",
        "F = ∑t∈T (costo_diario_t)\n",
        "\n",
        "Donde:\n",
        "costo_diario_t = C * ∑d∈Dt |Ad|\n",
        "\n",
        "Es decir, el costo diario de un día de tomas t es igual al costo diario por actor C multiplicado por el número total de actores que aparecen en todas las tomas de ese día ∑d∈Dt |Ad|.\n",
        "\n",
        "La función objetivo busca minimizar el costo total de contratar a los actores para cada día de tomas, sumando el costo diario de cada día t en el conjunto T.Respuesta"
      ]
    },
    {
      "cell_type": "code",
      "metadata": {
        "id": "pDA-rg3Gj5Lz"
      },
      "source": [
        "#(*)¿Cual es la función objetivo?\n",
        "\n",
        "La función objetivo en este problema es minimizar el gasto por los actores en la planificación de las tomas por día de la película. En otras palabras, la función objetivo busca minimizar el costo total de los días de grabación, que depende del número de actores presentes en cada toma y del número de días de grabación.\n",
        "\n",
        "En la implementación del algoritmo de búsqueda tabú, la función calcular_costo se encarga de calcular el costo total de una solución, que se obtiene sumando el costo de cada día de grabación. El costo de cada día de grabación se calcula multiplicando el número de actores presentes en las tomas de ese día por el costo diario de cada actor (costo_actor_por_dia).\n",
        "\n",
        "Por lo tanto, la función objetivo en este problema es minimizar el valor devuelto por la función calcular_costo.\n",
        "\n",
        "\n",
        "\n",
        "\n",
        "#¿Es un problema de maximización o minimización?\n",
        "Es un problema de minimización de costes, ya que lo que se desea buscar es minimizar el coste que se utiliza para los actores.\n"
      ],
      "execution_count": null,
      "outputs": []
    },
    {
      "cell_type": "markdown",
      "metadata": {
        "id": "rlnTYgY1j6I2"
      },
      "source": [
        "Diseña un algoritmo para resolver el problema por fuerza bruta"
      ]
    },
    {
      "cell_type": "markdown",
      "metadata": {
        "id": "70rDgxYXkC8r"
      },
      "source": [
        "Respuesta"
      ]
    },
    {
      "cell_type": "code",
      "metadata": {
        "id": "CJb5sQ0qkENy",
        "colab": {
          "base_uri": "https://localhost:8080/"
        },
        "outputId": "36c92627-cc71-43f5-a579-f32219548f6f"
      },
      "source": [
        "import itertools\n",
        "\n",
        "# Datos de entrada\n",
        "num_actores = 5\n",
        "num_tomas = 15\n",
        "costo_diario = 100\n",
        "max_tomas_por_dia = 6\n",
        "tomas_por_actor = [[1, 4, 7, 10, 13], [0, 3, 6, 9, 12], [0, 2, 4, 6, 8, 10, 12, 14], [1, 3, 5, 7, 9, 11, 13], [2, 5, 8, 11, 14]]\n",
        "tomas_por_dia = []\n",
        "\n",
        "# Generamos todas las posibles combinaciones de tomas por día\n",
        "combinaciones = list(itertools.combinations(range(num_tomas), max_tomas_por_dia))\n",
        "\n",
        "# Evaluamos cada combinación de tomas por día\n",
        "for i, combinacion in enumerate(combinaciones):\n",
        "    # Verificamos que todas las tomas de cada actor estén presentes en la combinación\n",
        "    tomas_actores = [[] for _ in range(num_actores)]\n",
        "    for toma in combinacion:\n",
        "        for actor in range(num_actores):\n",
        "            if toma in tomas_actores[actor]:\n",
        "                break\n",
        "        else:\n",
        "            for actor in range(num_actores):\n",
        "                if toma in tomas_por_actor[actor]:\n",
        "                    tomas_actores[actor].append(toma)\n",
        "    \n",
        "    # Calculamos el costo diario de la combinación de tomas por día\n",
        "    costo = len(combinacion) * costo_diario\n",
        "    for tomas in tomas_actores:\n",
        "        if len(tomas) != len(combinacion):\n",
        "            costo += num_actores * costo_diario\n",
        "    \n",
        "    # Actualizamos la mejor solución encontrada\n",
        "    if i == 0 or costo < mejor_costo:\n",
        "        mejor_costo = costo\n",
        "        tomas_por_dia = [list(combinacion)]\n",
        "    elif costo == mejor_costo:\n",
        "        tomas_por_dia.append(list(combinacion))\n",
        "\n",
        "# Imprimimos la solución encontrada\n",
        "print(\"Mejor planificación de tomas por día:\")\n",
        "for i, tomas in enumerate(tomas_por_dia):\n",
        "    print(f\"Día {i + 1}: {tomas} (costo diario = {mejor_costo})\")\n"
      ],
      "execution_count": 28,
      "outputs": [
        {
          "output_type": "stream",
          "name": "stdout",
          "text": [
            "Mejor planificación de tomas por día:\n",
            "Día 1: [0, 2, 4, 6, 8, 10] (costo diario = 2600)\n",
            "Día 2: [0, 2, 4, 6, 8, 12] (costo diario = 2600)\n",
            "Día 3: [0, 2, 4, 6, 8, 14] (costo diario = 2600)\n",
            "Día 4: [0, 2, 4, 6, 10, 12] (costo diario = 2600)\n",
            "Día 5: [0, 2, 4, 6, 10, 14] (costo diario = 2600)\n",
            "Día 6: [0, 2, 4, 6, 12, 14] (costo diario = 2600)\n",
            "Día 7: [0, 2, 4, 8, 10, 12] (costo diario = 2600)\n",
            "Día 8: [0, 2, 4, 8, 10, 14] (costo diario = 2600)\n",
            "Día 9: [0, 2, 4, 8, 12, 14] (costo diario = 2600)\n",
            "Día 10: [0, 2, 4, 10, 12, 14] (costo diario = 2600)\n",
            "Día 11: [0, 2, 6, 8, 10, 12] (costo diario = 2600)\n",
            "Día 12: [0, 2, 6, 8, 10, 14] (costo diario = 2600)\n",
            "Día 13: [0, 2, 6, 8, 12, 14] (costo diario = 2600)\n",
            "Día 14: [0, 2, 6, 10, 12, 14] (costo diario = 2600)\n",
            "Día 15: [0, 2, 8, 10, 12, 14] (costo diario = 2600)\n",
            "Día 16: [0, 4, 6, 8, 10, 12] (costo diario = 2600)\n",
            "Día 17: [0, 4, 6, 8, 10, 14] (costo diario = 2600)\n",
            "Día 18: [0, 4, 6, 8, 12, 14] (costo diario = 2600)\n",
            "Día 19: [0, 4, 6, 10, 12, 14] (costo diario = 2600)\n",
            "Día 20: [0, 4, 8, 10, 12, 14] (costo diario = 2600)\n",
            "Día 21: [0, 6, 8, 10, 12, 14] (costo diario = 2600)\n",
            "Día 22: [1, 3, 5, 7, 9, 11] (costo diario = 2600)\n",
            "Día 23: [1, 3, 5, 7, 9, 13] (costo diario = 2600)\n",
            "Día 24: [1, 3, 5, 7, 11, 13] (costo diario = 2600)\n",
            "Día 25: [1, 3, 5, 9, 11, 13] (costo diario = 2600)\n",
            "Día 26: [1, 3, 7, 9, 11, 13] (costo diario = 2600)\n",
            "Día 27: [1, 5, 7, 9, 11, 13] (costo diario = 2600)\n",
            "Día 28: [2, 4, 6, 8, 10, 12] (costo diario = 2600)\n",
            "Día 29: [2, 4, 6, 8, 10, 14] (costo diario = 2600)\n",
            "Día 30: [2, 4, 6, 8, 12, 14] (costo diario = 2600)\n",
            "Día 31: [2, 4, 6, 10, 12, 14] (costo diario = 2600)\n",
            "Día 32: [2, 4, 8, 10, 12, 14] (costo diario = 2600)\n",
            "Día 33: [2, 6, 8, 10, 12, 14] (costo diario = 2600)\n",
            "Día 34: [3, 5, 7, 9, 11, 13] (costo diario = 2600)\n",
            "Día 35: [4, 6, 8, 10, 12, 14] (costo diario = 2600)\n"
          ]
        }
      ]
    },
    {
      "cell_type": "markdown",
      "metadata": {
        "id": "tgrnsC2nkFa8"
      },
      "source": [
        "Calcula la complejidad del algoritmo por fuerza bruta"
      ]
    },
    {
      "cell_type": "markdown",
      "metadata": {
        "id": "9eUd3xwckP68"
      },
      "source": [
        "Respuesta"
      ]
    },
    {
      "cell_type": "code",
      "metadata": {
        "id": "rvZWwL-ckRST"
      },
      "source": [
        "La complejidad del algoritmo anterior es O(n^m * a^d), donde n es el número de tomas distintas, m es el número máximo de tomas por día, a es el número de actores, y d es el número de días de tomas.\n",
        "\n",
        "El algoritmo genera todas las posibles combinaciones de m tomas por día, que son n! / (m! * (n-m)!) combinaciones posibles. Luego, para cada combinación de tomas por día, el algoritmo verifica que todas \n",
        "las tomas de cada actor estén presentes en la combinación, lo que involucra un bucle sobre los a actores y un bucle sobre las m tomas en la combinación. Esto resulta en una complejidad de O(m*a) para verificar \n",
        "cada combinación de tomas por día.\n",
        "\n",
        "Por lo tanto, la complejidad total del algoritmo es O((n!/(m!*(n-m)!) * m * a) ^ d), que es exponencial en el número de días de tomas. \n",
        "Esto significa que la complejidad crece rápidamente a medida que aumenta el número de días de tomas, lo que hace que este enfoque sea impráctico para problemas grandes."
      ],
      "execution_count": null,
      "outputs": []
    },
    {
      "cell_type": "markdown",
      "metadata": {
        "id": "txbrmLmskReM"
      },
      "source": [
        "(*)Diseña un algoritmo que mejore la complejidad del algortimo por fuerza bruta. Argumenta porque crees que mejora el algoritmo por fuerza bruta"
      ]
    },
    {
      "cell_type": "markdown",
      "metadata": {
        "id": "hLrVwt5QkZPD"
      },
      "source": [
        "Respuesta"
      ]
    },
    {
      "cell_type": "code",
      "metadata": {
        "id": "m1eyM21Vkabg"
      },
      "source": [
        "import itertools\n",
        "\n",
        "# Lista de actores y tomas\n",
        "actores = [1, 2, 3, 4, 5]\n",
        "tomas = [1, 2, 3, 4, 5, 6, 7, 8, 9, 10, 11, 12, 13, 14, 15]\n",
        "\n",
        "# Lista de listas que relaciona los actores con las tomas donde aparece cada uno\n",
        "relaciones = [\n",
        "    [1, 2, 3, 4, 5, 6, 7],\n",
        "    [2, 3, 5, 6, 8, 9, 10],\n",
        "    [1, 3, 4, 6, 7, 9, 11],\n",
        "    [1, 2, 5, 7, 8, 11, 12],\n",
        "    [3, 4, 6, 9, 10, 13, 14]\n",
        "]\n",
        "\n",
        "# Función para calcular el costo total de una asignación de tomas a actores\n",
        "def calcular_costo(asignacion):\n",
        "    costo = 0\n",
        "    for dia in asignacion:\n",
        "        actores_dia = set([actor for actor, tomas in dia])\n",
        "        costo += len(actores_dia)\n",
        "    return costo\n",
        "\n",
        "# Generar todas las posibles asignaciones de tomas a actores\n",
        "posibles_asignaciones = []\n",
        "for combinacion in itertools.product(tomas, repeat=len(actores)):\n",
        "    dias = []\n",
        "    for i in range(0, len(combinacion), 6):\n",
        "        dia = []\n",
        "        for j in range(i, i+6):\n",
        "            if j < len(combinacion):\n",
        "                toma = combinacion[j]\n",
        "                actores_toma = []\n",
        "                for k, relacion in enumerate(relaciones):\n",
        "                    if toma in relacion:\n",
        "                        actores_toma.append(k+1)\n",
        "                dia.append((actores_toma, toma))\n",
        "        dias.append(dia)\n",
        "    posibles_asignaciones.append(dias)\n",
        "\n",
        "# Calcular el costo de cada asignación y encontrar la asignación con el menor costo\n",
        "mejor_asignacion = None\n",
        "mejor_costo = float('inf')\n",
        "for asignacion in posibles_asignaciones:\n",
        "    costo = calcular_costo(asignacion)\n",
        "    if costo < mejor_costo:\n",
        "        mejor_asignacion = asignacion\n",
        "        mejor_costo = costo\n",
        "\n",
        "# Imprimir la mejor asignación y el costo total\n",
        "print(\"Mejor asignación:\")\n",
        "for i, dia in enumerate(mejor_asignacion):\n",
        "    print(\"Día\", i+1)\n",
        "    for actores_toma, toma in dia:\n",
        "        print(\"  Toma\", toma, \"- Actores:\", actores_toma)\n",
        "print(\"Costo total:\", mejor_costo)"
      ],
      "execution_count": null,
      "outputs": []
    },
    {
      "cell_type": "markdown",
      "metadata": {
        "id": "eGDB4K6uk1iN"
      },
      "source": [
        "(*)Calcula la complejidad del algoritmo "
      ]
    },
    {
      "cell_type": "markdown",
      "metadata": {
        "id": "NhpTh_BPk1ms"
      },
      "source": [
        "Respuesta"
      ]
    },
    {
      "cell_type": "code",
      "metadata": {
        "id": "nREzhkStlCq8"
      },
      "source": [],
      "execution_count": null,
      "outputs": []
    },
    {
      "cell_type": "markdown",
      "metadata": {
        "id": "3M6QjTsSkmYe"
      },
      "source": [
        "Según el problema (y tenga sentido), diseña un juego de datos de entrada aleatorios"
      ]
    },
    {
      "cell_type": "markdown",
      "metadata": {
        "id": "Jc3_OlyNkvjZ"
      },
      "source": [
        "Respuesta"
      ]
    },
    {
      "cell_type": "code",
      "metadata": {
        "id": "sJ-N2etjkyWc"
      },
      "source": [],
      "execution_count": null,
      "outputs": []
    },
    {
      "cell_type": "markdown",
      "metadata": {
        "id": "zy5ZROmjlGo1"
      },
      "source": [
        "Aplica el algoritmo al juego de datos generado"
      ]
    },
    {
      "cell_type": "markdown",
      "metadata": {
        "id": "_Cmj-PVylMsa"
      },
      "source": [
        "Respuesta"
      ]
    },
    {
      "cell_type": "code",
      "metadata": {
        "id": "Jkx8GeiYlUz1"
      },
      "source": [],
      "execution_count": null,
      "outputs": []
    },
    {
      "cell_type": "markdown",
      "metadata": {
        "id": "eTFWUJQrtGcv"
      },
      "source": [
        "Enumera las referencias que has utilizado(si ha sido necesario) para llevar a cabo el trabajo"
      ]
    },
    {
      "cell_type": "markdown",
      "metadata": {
        "id": "YKQ_mRBttWsP"
      },
      "source": [
        "Respuesta"
      ]
    },
    {
      "cell_type": "markdown",
      "metadata": {
        "id": "kAkDPUyRtYyH"
      },
      "source": [
        "Describe brevemente las lineas de como crees que es posible avanzar en el estudio del problema. Ten en cuenta incluso posibles variaciones del problema y/o variaciones al alza del tamaño"
      ]
    },
    {
      "cell_type": "markdown",
      "metadata": {
        "id": "IE0uZmo-tZu-"
      },
      "source": [
        "Respuesta"
      ]
    },
    {
      "cell_type": "code",
      "source": [
        "import random\n",
        "import copy\n",
        "\n",
        "# Definir parámetros del problema\n",
        "num_actores = 5\n",
        "num_tomas = 15\n",
        "max_tomas_por_dia = 6\n",
        "costo_actor_por_dia = 100\n",
        "\n",
        "# Crear lista de listas de relaciones entre actores y tomas\n",
        "relaciones = [\n",
        "    [0, 1, 1, 0, 0, 1, 0, 0, 0, 0, 0, 0, 0, 0, 0],\n",
        "    [1, 1, 0, 1, 1, 0, 1, 0, 0, 0, 0, 0, 0, 0, 0],\n",
        "    [0, 0, 1, 1, 1, 0, 0, 1, 1, 1, 0, 0, 0, 0, 0],\n",
        "    [0, 0, 1, 1, 1, 0, 0, 0, 0, 0, 1, 1, 1, 0, 0],\n",
        "    [0, 0, 1, 1, 1, 0, 0, 0, 0, 0, 0, 0, 0, 1, 1]\n",
        "]\n",
        "\n",
        "# Crear lista de objetos que representan cada toma\n",
        "tomas = []\n",
        "for i in range(num_tomas):\n",
        "    toma = {\"id\": i, \"actores\": []}\n",
        "    for j in range(num_actores):\n",
        "        if relaciones[j][i] == 1:\n",
        "            toma[\"actores\"].append(j)\n",
        "    tomas.append(toma)\n",
        "\n",
        "# Función para calcular el costo de una solución\n",
        "def calcular_costo(solucion):\n",
        "    costo_total = 0\n",
        "    dias = len(solucion)\n",
        "    for dia in range(dias):\n",
        "        tomas_en_dia = solucion[dia]\n",
        "        actores_en_dia = set()\n",
        "        for toma in tomas_en_dia:\n",
        "            actores_en_dia.update(set(tomas[toma][\"actores\"]))\n",
        "        costo_total += len(actores_en_dia) * costo_actor_por_dia\n",
        "    return costo_total\n",
        "\n",
        "# Función para generar una solución inicial aleatoria\n",
        "def generar_solucion_inicial():\n",
        "    solucion = []\n",
        "    tomas_disponibles = list(range(num_tomas))\n",
        "    while len(tomas_disponibles) > 0:\n",
        "        tomas_en_dia = []\n",
        "        for i in range(random.randint(1, max_tomas_por_dia)):\n",
        "            if len(tomas_disponibles) == 0:\n",
        "                break\n",
        "            toma = random.choice(tomas_disponibles)\n",
        "            tomas_en_dia.append(toma)\n",
        "            tomas_disponibles.remove(toma)\n",
        "        solucion.append(tomas_en_dia)\n",
        "    return solucion\n",
        "\n",
        "\n",
        "\n",
        "\n",
        "\n",
        "# Función para generar una solución vecina\n",
        "def generar_solucion_vecina(solucion_actual, lista_tabu):\n",
        "    solucion_vecina = copy.deepcopy(solucion_actual)\n",
        "    # Selección aleatoria de dos días diferentes\n",
        "    dia1 = random.randint(0, len(solucion_actual) - 1)\n",
        "    dia2 = dia1\n",
        "    while dia2 == dia1:\n",
        "        dia2 = random.randint(0, len(solucion_actual) - 1)\n",
        "    # Selección aleatoria de dos tomas diferentes\n",
        "    toma1 = random.choice(solucion_actual[dia1])\n",
        "    toma2 = random.choice(solucion_actual[dia2])\n",
        "    # Intercambio de las tomas seleccionadas\n",
        "    solucion_vecina[dia1].remove(toma1)\n",
        "    solucion_vecina[dia2].remove(toma2)\n",
        "    solucion_vecina[dia1].append(toma2)\n",
        "    solucion_vecina[dia2].append(toma1)\n",
        "    # Agregar la solución vecina a la lista tabú\n",
        "    lista_tabu.append((dia1, toma1, dia2, toma2))\n",
        "    return solucion_vecina\n",
        "\n",
        "# Función de búsqueda tabú\n",
        "def busqueda_tabu(num_iteraciones):\n",
        "    # Generar solución inicial\n",
        "    mejor_solucion = generar_solucion_inicial()\n",
        "    mejor_costo = calcular_costo(mejor_solucion)\n",
        "    # Inicializar lista tabú\n",
        "    lista_tabu = []\n",
        "    # Iterar hasta alcanzar el número máximo de iteraciones\n",
        "    for i in range(num_iteraciones):\n",
        "        # Generar una solución vecina\n",
        "        solucion_vecina = generar_solucion_vecina(mejor_solucion, lista_tabu)\n",
        "        costo_vecino = calcular_costo(solucion_vecina)\n",
        "        # Actualizar la mejor solución si la vecina es mejor\n",
        "        if costo_vecino < mejor_costo:\n",
        "            mejor_solucion = solucion_vecina\n",
        "            mejor_costo = costo_vecino\n",
        "        # Eliminar el primer elemento de la lista tabú si ha alcanzado el tamaño máximo\n",
        "        if len(lista_tabu) > 10:\n",
        "            lista_tabu.pop(0)\n",
        "    return mejor_solucion, mejor_costo\n"
      ],
      "metadata": {
        "id": "hwvZGqPoCBfs"
      },
      "execution_count": 31,
      "outputs": []
    },
    {
      "cell_type": "code",
      "source": [
        "solucion, costo = busqueda_tabu(1000)\n",
        "print(\"Mejor solución:\", solucion)\n",
        "print(\"Costo:\", costo)"
      ],
      "metadata": {
        "colab": {
          "base_uri": "https://localhost:8080/"
        },
        "id": "rGOv2WjHTH0O",
        "outputId": "de869d9b-71d8-4018-8bfc-6b0e835a0509"
      },
      "execution_count": 32,
      "outputs": [
        {
          "output_type": "stream",
          "name": "stdout",
          "text": [
            "Mejor solución: [[2, 3, 4], [6, 14, 13, 0, 1], [10, 12], [5, 8, 9, 7], [11]]\n",
            "Costo: 1200\n"
          ]
        }
      ]
    },
    {
      "cell_type": "markdown",
      "source": [
        "Esta función busqueda_tabu recibe dos parámetros: num_iteraciones y tam_lista_tabu, que indican el número máximo de iteraciones y el tamaño máximo de la lista tabú, respectivamente. La función devuelve la mejor solución encontrada y su costo.\n",
        "\n",
        "Para ejecutar el algoritmo, basta con llamar a esta función y pasarle los parámetros deseados, por ejemplo:\n",
        "\n",
        "Este código ejecutará la búsqueda tabú con un número máximo de 100 iteraciones y una lista tabú de tamaño 10, y mostrará la mejor solución encontrada y su costo."
      ],
      "metadata": {
        "id": "MzcpnuE4CV-T"
      }
    }
  ]
}