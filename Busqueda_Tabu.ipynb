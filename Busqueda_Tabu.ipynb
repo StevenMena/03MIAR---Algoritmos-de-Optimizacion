{
  "nbformat": 4,
  "nbformat_minor": 0,
  "metadata": {
    "colab": {
      "provenance": [],
      "authorship_tag": "ABX9TyM/MlMYTSygy8vF+tY/JO9q",
      "include_colab_link": true
    },
    "kernelspec": {
      "name": "python3",
      "display_name": "Python 3"
    },
    "language_info": {
      "name": "python"
    }
  },
  "cells": [
    {
      "cell_type": "markdown",
      "metadata": {
        "id": "view-in-github",
        "colab_type": "text"
      },
      "source": [
        "<a href=\"https://colab.research.google.com/github/StevenMena/03MIAR---Algoritmos-de-Optimizacion/blob/main/Busqueda_Tabu.ipynb\" target=\"_parent\"><img src=\"https://colab.research.google.com/assets/colab-badge.svg\" alt=\"Open In Colab\"/></a>"
      ]
    },
    {
      "cell_type": "code",
      "execution_count": 8,
      "metadata": {
        "colab": {
          "base_uri": "https://localhost:8080/"
        },
        "id": "yrNeDEPTGyBY",
        "outputId": "3474df21-d444-4ad1-fbc1-d2dc05c10465"
      },
      "outputs": [
        {
          "output_type": "stream",
          "name": "stdout",
          "text": [
            "Mejor solución encontrada:  [[0, 2], [4, 1, 0], [4, 0], [3, 4, 1], [2, 3, 0], [1, 4, 0], [4, 1, 0], [1, 3, 0, 2], [3, 4], [0, 2, 4], [1, 4, 2, 0], [], [2, 1, 0], [2, 4], [0, 4]]\n",
            "Costo de la mejor solución:  4.866666666666666\n"
          ]
        }
      ],
      "source": [
        "import random\n",
        "\n",
        "# Define los parámetros del problema\n",
        "NUM_ACTORES = 5\n",
        "NUM_TOMAS = 15\n",
        "NUM_MAX_TOMAS_DIA = 6\n",
        "NUM_ITERACIONES = 100\n",
        "NUM_VECINOS = 10\n",
        "NUM_TABU = 5\n",
        "\n",
        "# Define la matriz que relaciona los actores con las tomas\n",
        "MATRIZ_ACTORES_TOMAS = [[1, 0, 0, 1, 1, 1, 0, 1, 0, 0, 0, 0, 0, 0, 1],\n",
        "                        [1, 0, 0, 1, 1, 1, 0, 1, 0, 0, 0, 0, 0, 0, 1],\n",
        "                        [1, 0, 0, 1, 1, 1, 0, 1, 0, 0, 0, 0, 0, 0, 1],\n",
        "                        [0, 1, 1, 0, 0, 0, 1, 0, 1, 1, 1, 0, 0, 0, 1],\n",
        "                        [0, 1, 1, 0, 0, 0, 1, 0, 1, 1, 1, 0, 0, 0, 1]]\n",
        "\n",
        "# Función para calcular el costo de una solución\n",
        "def calcular_costo(solucion):\n",
        "    costo = 0\n",
        "    for i in range(len(solucion)):\n",
        "        actores_presentes = [j for j in range(NUM_ACTORES) if MATRIZ_ACTORES_TOMAS[j][i] == 1]\n",
        "        num_actores_presentes = len(actores_presentes)\n",
        "        if num_actores_presentes > 0:\n",
        "            costo += 1/num_actores_presentes\n",
        "    return costo\n",
        "\n",
        "# Genera una solución inicial aleatoria\n",
        "def generar_solucion_inicial():\n",
        "    solucion = []\n",
        "    for i in range(NUM_TOMAS):\n",
        "        solucion.append(random.sample(range(NUM_ACTORES), k=random.randint(1, min(NUM_MAX_TOMAS_DIA, NUM_ACTORES))))\n",
        "    return solucion\n",
        "\n",
        "# Genera vecinos de una solución\n",
        "def generar_vecinos(solucion):\n",
        "    vecinos = []\n",
        "    for i in range(NUM_VECINOS):\n",
        "        vecino = solucion.copy()\n",
        "        indice_toma = random.randint(0, NUM_TOMAS-1)\n",
        "        indice_actor = random.randint(0, NUM_ACTORES-1)\n",
        "        if indice_actor in vecino[indice_toma]:\n",
        "            vecino[indice_toma].remove(indice_actor)\n",
        "        else:\n",
        "            if len(vecino[indice_toma]) < NUM_MAX_TOMAS_DIA:\n",
        "                vecino[indice_toma].append(indice_actor)\n",
        "        vecinos.append(vecino)\n",
        "    return vecinos\n",
        "\n",
        "\n",
        "\n",
        "# Función de búsqueda tabú\n",
        "def busqueda_tabu():\n",
        "    mejor_solucion = generar_solucion_inicial()\n",
        "    mejor_costo = calcular_costo(mejor_solucion)\n",
        "    solucion_actual = mejor_solucion.copy()\n",
        "    costo_actual = mejor_costo\n",
        "    lista_tabu = []\n",
        "    for i in range(NUM_ITERACIONES):\n",
        "        vecinos = generar_vecinos(solucion_actual)\n",
        "        mejor_vecino = None\n",
        "        mejor_costo_vecino = float('inf')\n",
        "        for vecino in vecinos:\n",
        "            costo_vecino = calcular_costo(vecino)\n",
        "            if costo_vecino < mejor_costo_vecino and vecino not in lista_tabu:\n",
        "                mejor_vecino = vecino\n",
        "                mejor_costo_vecino = costo_vecino\n",
        "        if mejor_vecino is None:\n",
        "            break\n",
        "        solucion_actual = mejor_vecino\n",
        "        costo_actual = mejor_costo_vecino\n",
        "        if costo_actual < mejor_costo:\n",
        "            mejor_solucion = solucion_actual\n",
        "            mejor_costo = costo_actual\n",
        "        lista_tabu.append(mejor_vecino)\n",
        "        if len(lista_tabu) > NUM_TABU:\n",
        "            lista_tabu.pop(0)\n",
        "    return mejor_solucion, mejor_costo\n",
        "\n",
        "# Ejecuta la búsqueda tabú y muestra los resultados\n",
        "mejor_solucion, mejor_costo = busqueda_tabu()\n",
        "print(\"Mejor solución encontrada: \", mejor_solucion)\n",
        "print(\"Costo de la mejor solución: \", mejor_costo)"
      ]
    },
    {
      "cell_type": "markdown",
      "source": [
        "En esta implementación, la función busqueda_tabu() ejecuta la búsqueda tabú para encontrar la mejor solución para el problema de planificación de tomas de una película. La función utiliza una solución inicial aleatoria y genera vecinos de esta solución. Luego, se evalúa el costo de cada vecino y se elige el mejor vecino como la siguiente solución. La función también utiliza una lista tabú para evitar caer en ciclos de soluciones repetidas.\n",
        "\n",
        "Finalmente, la función devuelve la mejor solución encontrada y su costo, que se muestran en la pantalla al ejecutar el código."
      ],
      "metadata": {
        "id": "U0BRpBWzIgSI"
      }
    },
    {
      "cell_type": "markdown",
      "source": [
        "Otra solucion usando numpy"
      ],
      "metadata": {
        "id": "e2wDo1yqM-2b"
      }
    },
    {
      "cell_type": "code",
      "source": [
        "import numpy as np\n",
        "\n",
        "# Configuración del problema\n",
        "num_actors = 5\n",
        "num_takes = 15\n",
        "max_takes_per_day = 6\n",
        "num_days = int(np.ceil(num_takes / max_takes_per_day))\n",
        "cost_per_actor_per_day = 1000\n",
        "\n",
        "num_iterations = 100\n",
        "tabu_list = []\n",
        "best_solution = None\n",
        "best_cost = np.inf\n",
        "\n",
        "# Matriz de relaciones entre actores y tomas\n",
        "# Cada fila representa un actor y cada columna representa una toma\n",
        "# El valor en la posición (i,j) indica si el actor i aparece en la toma j\n",
        "\n",
        "takes_matrix = np.array([[1, 0, 0, 1, 1, 1, 0, 1, 0, 0, 0, 0, 0, 0, 1],\n",
        "                        [1, 0, 0, 1, 1, 1, 0, 1, 0, 0, 0, 0, 0, 0, 1],\n",
        "                        [1, 0, 0, 1, 1, 1, 0, 1, 0, 0, 0, 0, 0, 0, 1],\n",
        "                        [0, 1, 1, 0, 0, 0, 1, 0, 1, 1, 1, 0, 0, 0, 1],\n",
        "                        [0, 1, 1, 0, 0, 0, 1, 0, 1, 1, 1, 0, 0, 0, 1]])\n",
        "\n",
        "# Función para calcular el costo de una solución\n",
        "def calculate_cost(solution):\n",
        "    \"\"\"\n",
        "    La solución es una matriz booleana de tamaño (num_actors, num_takes)\n",
        "    que indica para cada actor y cada toma si el actor aparece en la toma.\n",
        "    \"\"\"\n",
        "    # Separar las tomas en grupos de máximo max_takes_per_day tomas por día\n",
        "    takes_per_day = [solution[:, i:i+max_takes_per_day] for i in range(0, num_takes, max_takes_per_day)]\n",
        "\n",
        "    # Calcular el costo total sumando el costo por actor por día\n",
        "    total_cost = 0\n",
        "    for takes in takes_per_day:\n",
        "        actors_in_takes = np.sum(takes, axis=1) > 0\n",
        "        total_cost += np.sum(actors_in_takes) * cost_per_actor_per_day\n",
        "\n",
        "    return total_cost\n",
        "\n",
        "# Función para generar una solución inicial aleatoria\n",
        "def generate_random_solution():\n",
        "    \"\"\"\n",
        "    Genera una matriz booleana de tamaño (num_actors, num_takes)\n",
        "    que indica para cada actor y cada toma si el actor aparece en la toma.\n",
        "    \"\"\"\n",
        "    solution = np.zeros((num_actors, num_takes), dtype=bool)\n",
        "    for i in range(num_takes):\n",
        "        available_actors = np.where(takes_matrix[:, i])[0]\n",
        "        np.random.shuffle(available_actors)\n",
        "        for actor in available_actors:\n",
        "            if np.sum(solution[actor]) < max_takes_per_day:\n",
        "                solution[actor, i] = True\n",
        "                break\n",
        "    return solution\n",
        "\n",
        "\n",
        "# Función para generar una solución vecina\n",
        "def generate_neighbor_solution(current_solution):\n",
        "    \"\"\"\n",
        "    Genera una solución vecina a partir de la solución actual.\n",
        "    \"\"\"\n",
        "    # Copiar la solución actual\n",
        "    neighbor_solution = current_solution.copy()\n",
        "\n",
        "    # Elegir aleatoriamente un actor y una toma que estén presentes en la solución\n",
        "    actor_indices, take_indices = np.nonzero(current_solution)\n",
        "    random_index = np.random.choice(len(actor_indices))\n",
        "    actor_index, take_index = actor_indices[random_index], take_indices[random_index]\n",
        "\n",
        "    # Quitar al actor de la toma actual\n",
        "    neighbor_solution[actor_index, take_index] = False\n",
        "\n",
        "    # Elegir aleatoriamente una toma disponible para el actor y agregarlo\n",
        "    available_takes = np.where(takes_matrix[actor_index])[0]\n",
        "    np.random.shuffle(available_takes)\n",
        "    for available_take in available_takes:\n",
        "        if np.sum(neighbor_solution[actor_index]) < max_takes_per_day:\n",
        "            neighbor_solution[actor_index, available_take] = True\n",
        "            break\n",
        "\n",
        "    return neighbor_solution\n",
        "\n",
        "\n",
        "# Algoritmo de búsqueda tabú\n",
        "\n",
        "def busqueda_tabu():\n",
        "    current_solution = generate_random_solution()\n",
        "    current_cost = calculate_cost(current_solution)\n",
        "    best_cost = current_cost\n",
        "    for i in range(num_iterations):\n",
        "        # Generar una solución vecina que no esté en la lista tabú\n",
        "        neighbor_solution = generate_neighbor_solution(current_solution)\n",
        "        while np.array2string(neighbor_solution) in tabu_list:\n",
        "            neighbor_solution = generate_neighbor_solution(current_solution)\n",
        "\n",
        "        # Calcular el costo de la solución vecina\n",
        "        neighbor_cost = calculate_cost(neighbor_solution)\n",
        "\n",
        "        # Actualizar la mejor solución encontrada hasta el momento\n",
        "        if neighbor_cost < best_cost:\n",
        "            best_solution = neighbor_solution\n",
        "            best_cost = neighbor_cost\n",
        "\n",
        "        # Actualizar la solución actual y la lista tabú\n",
        "        current_solution = neighbor_solution\n",
        "        tabu_list.append(np.array2string(current_solution))\n",
        "        if len(tabu_list) > 10:\n",
        "            tabu_list.pop(0)\n",
        "\n",
        "    print(\"Mejor solución encontrada:\")\n",
        "    print(best_solution)\n",
        "    print(\"Costo de la mejor solución encontrada:\")\n",
        "    print(best_cost)\n",
        "\n",
        "\n",
        "busqueda_tabu()"
      ],
      "metadata": {
        "colab": {
          "base_uri": "https://localhost:8080/"
        },
        "id": "05L3oFwsNCbC",
        "outputId": "6e68c97e-7c61-4344-ead7-987c05aa8fd5"
      },
      "execution_count": 12,
      "outputs": [
        {
          "output_type": "stream",
          "name": "stdout",
          "text": [
            "Mejor solución encontrada:\n",
            "[[False False False False False False False False False False False False\n",
            "  False False False]\n",
            " [False False False  True False False False False False False False False\n",
            "  False False False]\n",
            " [False False False False False False False  True False False False False\n",
            "  False False False]\n",
            " [False False False False False False  True False  True False False False\n",
            "  False False False]\n",
            " [False  True  True False False False False False False False False False\n",
            "  False False False]]\n",
            "Costo de la mejor solución encontrada:\n",
            "4000\n"
          ]
        }
      ]
    },
    {
      "cell_type": "markdown",
      "source": [
        "La función generate_neighbor_solution elige aleatoriamente una toma y un actor que estén presentes en la solución actual, quita al actor de esa toma y elige aleatoriamente una toma disponible para ese actor y lo agrega a la solución. De esta manera se genera una solución vecina.\n",
        "\n",
        "Finalmente, para encontrar la solución óptima, podemos utilizar el algoritmo de búsqueda tabú:\n",
        "\n",
        "\n",
        "El algoritmo de búsqueda tabú comienza generando una solución aleatoria y calculando su costo. Luego, en cada iteración, genera una solución vecina que no esté en la lista tabú, calcula su costo y actualiza la mejor solución encontrada hasta el momento. Finalmente, actualiza la solución actual y la lista tabú. El algoritmo se ejecuta durante un número fijo de iteraciones (en este caso, 100).\n",
        "\n",
        "La mejor solución encontrada y su costo se imprimen al final del algoritmo. Esta solución muestra para cada actor y para cada toma si el actor aparece o no en la toma. La solución encontrada minimiza el costo total de los actores por día, cumpliendo con la"
      ],
      "metadata": {
        "id": "h_hBQLOvQP8l"
      }
    }
  ]
}