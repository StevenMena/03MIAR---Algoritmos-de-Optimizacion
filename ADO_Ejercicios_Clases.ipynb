{
  "nbformat": 4,
  "nbformat_minor": 0,
  "metadata": {
    "colab": {
      "provenance": [],
      "toc_visible": true,
      "authorship_tag": "ABX9TyPbq9FoqSLX5wASJ3rVZxqi",
      "include_colab_link": true
    },
    "kernelspec": {
      "name": "python3",
      "display_name": "Python 3"
    },
    "language_info": {
      "name": "python"
    }
  },
  "cells": [
    {
      "cell_type": "markdown",
      "metadata": {
        "id": "view-in-github",
        "colab_type": "text"
      },
      "source": [
        "<a href=\"https://colab.research.google.com/github/StevenMena/03MIAR---Algoritmos-de-Optimizacion/blob/main/ADO_Ejercicios_Clases.ipynb\" target=\"_parent\"><img src=\"https://colab.research.google.com/assets/colab-badge.svg\" alt=\"Open In Colab\"/></a>"
      ]
    },
    {
      "cell_type": "markdown",
      "source": [
        "# CLASE 2"
      ],
      "metadata": {
        "id": "MNJII3HpeOwb"
      }
    },
    {
      "cell_type": "code",
      "source": [
        "##ENCONTRAR LOS ELEMENTOS COMUNES ENTRE 2 LISTAS.\n",
        "\n",
        "A = [1,2,6,7,12,13,15];\n",
        "B = [2,3,4,7,13];\n",
        "\n",
        "def Intersecction(list1,list2):\n",
        "   final_list = list(set(list1) & set(list2))\n",
        "   return final_list\n",
        "\n",
        "print(Intersecction(A,B));   \n",
        "\n",
        "def Intersecction1(list1,list2):\n",
        "   final_list = set(list1).intersection(list2)\n",
        "   return final_list\n",
        "\n",
        "print(Intersecction1(A,B));   "
      ],
      "metadata": {
        "colab": {
          "base_uri": "https://localhost:8080/"
        },
        "id": "o3d_-ryIeah9",
        "outputId": "658909ce-3ea8-46f7-94eb-c0cf0e07262d"
      },
      "execution_count": 5,
      "outputs": [
        {
          "output_type": "stream",
          "name": "stdout",
          "text": [
            "[2, 13, 7]\n",
            "{2, 13, 7}\n"
          ]
        }
      ]
    }
  ]
}